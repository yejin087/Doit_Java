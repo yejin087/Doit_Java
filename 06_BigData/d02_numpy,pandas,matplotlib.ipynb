{
 "cells": [
  {
   "cell_type": "code",
   "execution_count": null,
   "metadata": {},
   "outputs": [],
   "source": [
    "import csv, re\n",
    "\n",
    "# csv 파일 읽어서 리스트에 저장\n",
    "def openCSV(filename):\n",
    "    output = []\n",
    "    f = open(filename, encoding=\"CP949\")\n",
    "    reader = csv.reader(f)\n",
    "    \n",
    "    for i in reader:\n",
    "        output.append(i)\n",
    "        \n",
    "    return output\n",
    "\n",
    "\n",
    "# 쉼표 제거\n",
    "def switchcsv(listName):\n",
    "    for i in listName:\n",
    "        for j in i:\n",
    "            try:\n",
    "                i[i.index(j)] = int(re.sub(',','',j))\n",
    "            except:\n",
    "                pass\n",
    "    return listName\n",
    "\n",
    "\n",
    "\n",
    "popSeoul = openCSV('./csv/popSeoul.csv')\n",
    "popSeoul_switch = switchcsv(popSeoul)\n",
    "\n"
   ]
  },
  {
   "cell_type": "code",
   "execution_count": null,
   "metadata": {},
   "outputs": [],
   "source": [
    "removePunc = [['구', '한국인', '외국인', '외국인비율(%)']]\n",
    "for i in popSeoul_switch:\n",
    "    foreign = 0\n",
    "    try:\n",
    "        foreign = round(i[2]/(i[1]+i[2])*100, 1)\n",
    "        if foreign > 5:\n",
    "            removePunc.append([i[0],i[1],i[2], foreign])\n",
    "    except:\n",
    "        pass\n",
    "            \n",
    "print(removePunc)\n",
    "# for i in outputswitchcsv(popSeoul2)\n",
    "# print(removePunc)\n"
   ]
  },
  {
   "cell_type": "code",
   "execution_count": null,
   "metadata": {},
   "outputs": [],
   "source": [
    "for i in popSeoul_switch:\n",
    "    try:\n",
    "        if i[1] + i[2] < 300000:\n",
    "            print(i[0])\n",
    "    except:\n",
    "        pass\n",
    "        "
   ]
  },
  {
   "cell_type": "code",
   "execution_count": null,
   "metadata": {},
   "outputs": [],
   "source": [
    "apt = openCSV('./csv/apt_201910.csv')\n",
    "apt = switchcsv(apt)\n",
    "\n",
    "for i in apt[:6]:\n",
    "    print(i)"
   ]
  },
  {
   "cell_type": "code",
   "execution_count": null,
   "metadata": {},
   "outputs": [],
   "source": [
    "# 강원도에 120m2 이산 3억 이하 검색.\n",
    "# 시군구, 단지명, 가격\n",
    "result = [['시군구', '단지명', '가격']]\n",
    "for i in apt:\n",
    "    if re.match(r'강원',i[0]) and float(i[5])> 120 and float(i[-4]) < 30000:\n",
    "        result.append([i[0],i[4],i[-4]])\n",
    "print(result)\n",
    "\n",
    "with open(\"apt_new.csv\", \"w\", newline=\"\\n\") as f:\n",
    "    a = csv.writer(f, delimiter=\",\")\n",
    "    a.writerows(result)"
   ]
  },
  {
   "cell_type": "code",
   "execution_count": null,
   "metadata": {},
   "outputs": [],
   "source": [
    "English = 'She is a vegetarian. '\n",
    "English +='She does not eat meat.'\n",
    "English +='She thinks that animals should not be killed. '\n",
    "English +='It is hard for her to hang out with people. '\n",
    "English +='Many people like to eat meat. '\n",
    "English +='She told his parents not to have meat. '\n",
    "English +='They laughed at her. She realized they couldn\\'t give up meat.'\n",
    "\n",
    "Korean = '그녀는 채식주의자입니다.'\n",
    "Korean +='그녀는 고기를 먹지 않습니다. '\n",
    "Korean +='그녀는 동물을 죽이지 말아야한다고 생각합니다. ' \n",
    "Korean +='그녀가 사람들과 어울리는 것은 어렵습니다. '\n",
    "Korean +='많은 사람들이 고기를 좋아합니다. '\n",
    "Korean +='그녀는 부모에게 고기를 먹지 말라고 말했습니다. '\n",
    "Korean +='그들은 그녀를 비웃었다.' \n",
    "Korean +='그녀는 그들이 고기를 포기할 수 없다는 것을 깨달았습니다.'\n",
    "\n",
    "# print(len(English), len(Korean))\n",
    "concatEnK =[]\n",
    "for e, k in zip(English.split('.'), Korean.split('.')):\n",
    "    concatEnK.append([e , k])\n",
    "    \n",
    "print(concatEnK)\n",
    "    "
   ]
  },
  {
   "cell_type": "markdown",
   "metadata": {},
   "source": [
    "## Numpy"
   ]
  },
  {
   "cell_type": "code",
   "execution_count": null,
   "metadata": {},
   "outputs": [],
   "source": [
    "import numpy as np\n",
    "\n",
    "a = np.array([[2,3],[5,2]])\n",
    "print(a)\n",
    "print(a.shape)\n",
    "\n",
    "d = np.array([2,2,4])\n",
    "print(d)\n",
    "print(d.shape)\n",
    "print(d.dtype)\n",
    "\n",
    "print(np.zeros((2,10)))\n",
    "print(np.ones((2,5)))\n",
    "\n",
    "\n",
    "print(np.ara\n",
    "      age(2,10))\n"
   ]
  },
  {
   "cell_type": "code",
   "execution_count": null,
   "metadata": {},
   "outputs": [],
   "source": [
    "d = np.array([[1,2,3,4,5],[2,3,4,5,6,7],[5,6,7,8,9]])\n",
    "print(d)\n",
    "d_list  = [[1,1,1,1,1],[2,2,2,2,2],[3,3,3,3,3]]\n",
    "print(d_list)"
   ]
  },
  {
   "cell_type": "code",
   "execution_count": null,
   "metadata": {},
   "outputs": [],
   "source": [
    "quest = np.array(switchcsv(openCSV(\"./csv/quest.csv\")))\n",
    "print( quest)\n",
    "\n",
    "quest[quest > 5 ] = 5\n",
    "print(quest)"
   ]
  },
  {
   "cell_type": "code",
   "execution_count": null,
   "metadata": {},
   "outputs": [],
   "source": [
    "import pandas as pd\n",
    "\n",
    "f = pd.read_csv('./csv/quest.csv', encoding=\"CP949\")\n",
    "quest = np.array(f)\n",
    "print(quest)\n",
    "print(quest > 5)\n",
    "print(quest[quest > 5])\n"
   ]
  },
  {
   "cell_type": "markdown",
   "metadata": {},
   "source": [
    "## Pandas"
   ]
  },
  {
   "cell_type": "code",
   "execution_count": null,
   "metadata": {},
   "outputs": [],
   "source": [
    "df = pd.read_csv('./csv/apt_201910.csv', encoding=\"CP949\")\n",
    "print(df.shape)"
   ]
  },
  {
   "cell_type": "code",
   "execution_count": null,
   "metadata": {},
   "outputs": [],
   "source": [
    "print( df[df.면적 > 130])"
   ]
  },
  {
   "cell_type": "code",
   "execution_count": null,
   "metadata": {},
   "outputs": [],
   "source": [
    "#단지명, 가격 열만 추출, 10행까지\n",
    "print(df.loc[:10, ['단지명','가격']])"
   ]
  },
  {
   "cell_type": "code",
   "execution_count": null,
   "metadata": {},
   "outputs": [],
   "source": [
    "#시군구에 강릉이 포함된 행 10개 \n",
    "print( df[df.시군구.str.find('강릉') > -1 ].loc[:10,['시군구','단지명','가격','면적']] )"
   ]
  },
  {
   "cell_type": "code",
   "execution_count": null,
   "metadata": {},
   "outputs": [],
   "source": [
    "data = {\n",
    "    'name': [\"Mark\",'Hane','aaa','rr'],\n",
    "    'age' : [33,44, 55, 11],\n",
    "    'score' : [91.2, 88.5, 55.6, 88.9]\n",
    "    \n",
    "}\n",
    "\n",
    "df = pd.DataFrame(data)\n",
    "print(df)\n",
    "\n",
    "print(type(df))\n",
    "print(df.sum())\n",
    "print(df.mean())\n",
    "\n",
    "print(df['age'])\n",
    "print(df.age.sum())\n",
    "\n",
    "\n"
   ]
  },
  {
   "cell_type": "code",
   "execution_count": null,
   "metadata": {},
   "outputs": [],
   "source": [
    "year = [2018, 2019, 2020, 2021, 2022]\n",
    "sales = [350, 400, 1050, 2000, 1000]\n",
    "yNs = [year, sales]\n",
    "print(yNs)\n",
    "\n",
    "df = pd.DataFrame(yNs, index=[\"year\", 'sales']).transpose()\n",
    "# df.column = ['year', 'sales']\n",
    "print(df)\n",
    "print(df.sum())\n",
    "\n",
    "df.to_csv('./csv/pd03.csv', index=None)"
   ]
  },
  {
   "cell_type": "code",
   "execution_count": null,
   "metadata": {},
   "outputs": [],
   "source": [
    "df = pd.read_csv('./csv/pd03.csv', encoding='utf-8')\n",
    "print(df)"
   ]
  },
  {
   "cell_type": "code",
   "execution_count": null,
   "metadata": {},
   "outputs": [],
   "source": [
    "df = pd.read_csv('./csv/apt_201910.csv', encoding='cp949', thousands=',')\n",
    "print(df)"
   ]
  },
  {
   "cell_type": "code",
   "execution_count": null,
   "metadata": {},
   "outputs": [],
   "source": [
    "# 면적이 130 넘고 가격이 2억 미만인 아파트 가격\n",
    "print( df[(df.가격< 20000) & (df.면적 > 130)] )"
   ]
  },
  {
   "cell_type": "code",
   "execution_count": null,
   "metadata": {},
   "outputs": [],
   "source": [
    "# sort_values\n",
    "dfAsc = df.sort_values(by='가격', ascending=False)\n",
    "print(dfAsc.head())"
   ]
  },
  {
   "cell_type": "code",
   "execution_count": null,
   "metadata": {},
   "outputs": [],
   "source": [
    "# 6억원을 초과하는 가격으로 거래된 아파트 단지명,가격만 출력\n",
    "print( df[df.가격 > 300000].loc[:,['시군구','단지명', '가격']].sort_values(by='가격'))"
   ]
  },
  {
   "cell_type": "code",
   "execution_count": null,
   "metadata": {},
   "outputs": [],
   "source": [
    "# 컬럼 추가\n",
    "df['단가'] = df.가격 / df.면적\n",
    "print( df.head())"
   ]
  },
  {
   "cell_type": "code",
   "execution_count": null,
   "metadata": {},
   "outputs": [],
   "source": [
    "df = pd.read_csv('./csv/survey.csv')\n",
    "print(df.head())\n",
    "print('수입 평균' ,df.income.mean())\n",
    "print('수입합', df.income.sum())\n",
    "print('수입 중앙값', df.income.median())\n",
    "print(df.describe())"
   ]
  },
  {
   "cell_type": "markdown",
   "metadata": {},
   "source": [
    "## Matplotlib"
   ]
  },
  {
   "cell_type": "code",
   "execution_count": null,
   "metadata": {},
   "outputs": [],
   "source": [
    "import matplotlib.pyplot as plt\n",
    "\n",
    "x = [1,4, 9, 16, 25]\n",
    "plt.plot(x)\n",
    "plt.show()"
   ]
  },
  {
   "cell_type": "code",
   "execution_count": null,
   "metadata": {},
   "outputs": [],
   "source": [
    "x = [1,4, 9, 16, 25,35,49,64]\n",
    "y = [i for i in range(1,9)]\n",
    "plt.plot(x,y)\n",
    "plt.xlabel('x')\n",
    "plt.ylabel('y')\n",
    "plt.title('matplotlib sample')\n",
    "plt.show()"
   ]
  },
  {
   "cell_type": "code",
   "execution_count": null,
   "metadata": {},
   "outputs": [],
   "source": [
    "y = [13,16,15,17,18,19]\n",
    "plt.plot(y)\n",
    "plt.show()"
   ]
  },
  {
   "cell_type": "code",
   "execution_count": null,
   "metadata": {},
   "outputs": [],
   "source": [
    "point = np.array([[1,1],[1,2],[1,3],\n",
    "         [2,1],[2,2],[2,3],\n",
    "         [3,1],[3,2],[3,3]])\n",
    "plt.plot(point[:,0],point[:,1],'ro')\n",
    "plt.show()"
   ]
  },
  {
   "cell_type": "code",
   "execution_count": null,
   "metadata": {},
   "outputs": [],
   "source": [
    "p = np.array([2.5, 2])\n",
    "plt.plot(p[0],p[1],\"bo\")\n",
    "plt.show()"
   ]
  },
  {
   "cell_type": "markdown",
   "metadata": {},
   "source": [
    "#### 복습"
   ]
  },
  {
   "cell_type": "code",
   "execution_count": null,
   "metadata": {},
   "outputs": [],
   "source": [
    "sum = 0\n",
    "for i in range(1,11):\n",
    "    sum += i\n",
    "    \n",
    "print(sum)\n",
    "\n",
    "for i in range(2,10):\n",
    "    for j in  range(1,10):\n",
    "        print(i,\"*\", j , \"=\" , i * j)\n",
    "    print()\n"
   ]
  },
  {
   "cell_type": "code",
   "execution_count": null,
   "metadata": {},
   "outputs": [],
   "source": [
    "    \n",
    "str2 =\"92년에 태어났습니다. 88년에는 올림픽이 있었습니다. 지금은 2022년입니다.\"\n",
    "print(re.findall(r'\\d+년',str))\n",
    "\n",
    "#.+? : lazy 일치 . 가장 잛은 단어를 찾는다.\n",
    "groupM = re.match(r'\\d.+?년',str)\n",
    "print(groupM.group())\n"
   ]
  },
  {
   "cell_type": "code",
   "execution_count": null,
   "metadata": {},
   "outputs": [],
   "source": [
    "d = 'i have a dog. i am not a goirl. yoi is good.'\n",
    "\n",
    "print( re.split('.', d))\n"
   ]
  },
  {
   "cell_type": "code",
   "execution_count": null,
   "metadata": {},
   "outputs": [],
   "source": [
    "str1 = \"Joey: C'mon, you're going out with the guy! There's gotta be something wrong with him!\" \n",
    "\n",
    "str1 += \"Chandler: All right Joey, be nice.  So does he have a hump? A hump and a hairpiece?\"\n",
    "\n",
    "str1 += \"Phoebe: Wait, does he eat chalk?\" \n",
    "\n",
    "# 등장인물\n",
    "print( set(re.findall(r'[A-Z][a-z]+:',str1)))\n",
    "\n",
    "# 등장인물 제거 출력\n",
    "print( re.sub(r'[A-Z][a-z]+:',\"\",str1))\n"
   ]
  },
  {
   "cell_type": "code",
   "execution_count": null,
   "metadata": {},
   "outputs": [],
   "source": [
    "# 문자열에서 무작위로 5개 문자 추출. 새로운 변수에 하나씩 병합\n",
    "import random\n",
    "\n",
    "pw = str()\n",
    "chars = \"한글 우수\"\n",
    "\n",
    "for _ in range(5):\n",
    "    pw += random.choice(chars)\n",
    "\n",
    "print(pw)"
   ]
  },
  {
   "cell_type": "markdown",
   "metadata": {},
   "source": [
    "### 리스트 함축 \n",
    "- [ i for i in range() if ~]"
   ]
  },
  {
   "cell_type": "code",
   "execution_count": 2,
   "metadata": {},
   "outputs": [
    {
     "name": "stdout",
     "output_type": "stream",
     "text": [
      "0\n",
      "3\n",
      "4\n",
      "==========\n",
      "[2, 4, 6, 4, 8, 10]\n",
      "==========\n",
      "[2, 4, 6, 4, 8, 10]\n"
     ]
    }
   ],
   "source": [
    "animal = ['bird', 'snake', 'cat', 'bird', 'bird']\n",
    "for i, ani in enumerate(animal):\n",
    "    if ani == 'bird':\n",
    "        print(i)\n",
    "print(\"=\"*10)\n",
    "\n",
    "mylist = [1,2,3,4,7,6,5,4,8,9,10]\n",
    "print(list((filter(lambda x: x%2 == 0, mylist))))\n",
    "\n",
    "print(\"=\"*10)\n",
    "\n",
    "mylist = [i for i in mylist if i%2==0]\n",
    "print(mylist)"
   ]
  },
  {
   "cell_type": "code",
   "execution_count": null,
   "metadata": {},
   "outputs": [],
   "source": []
  }
 ],
 "metadata": {
  "kernelspec": {
   "display_name": "Python 3.9.12 ('base')",
   "language": "python",
   "name": "python3"
  },
  "language_info": {
   "codemirror_mode": {
    "name": "ipython",
    "version": 3
   },
   "file_extension": ".py",
   "mimetype": "text/x-python",
   "name": "python",
   "nbconvert_exporter": "python",
   "pygments_lexer": "ipython3",
   "version": "3.9.12"
  },
  "orig_nbformat": 4,
  "vscode": {
   "interpreter": {
    "hash": "610a6f344c2137faf927ea819c63f6cee33a2c04455044b28099f39fe9722347"
   }
  }
 },
 "nbformat": 4,
 "nbformat_minor": 2
}
