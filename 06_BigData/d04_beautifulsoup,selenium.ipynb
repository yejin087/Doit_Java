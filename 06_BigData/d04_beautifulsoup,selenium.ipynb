{
 "cells": [
  {
   "cell_type": "code",
   "execution_count": 5,
   "metadata": {},
   "outputs": [],
   "source": [
    "import requests\n",
    "from bs4 import BeautifulSoup\n",
    "import pandas as pd"
   ]
  },
  {
   "cell_type": "code",
   "execution_count": 5,
   "metadata": {},
   "outputs": [
    {
     "name": "stdout",
     "output_type": "stream",
     "text": [
      "[['KODEX 200선물인버스2X', '3,075'], ['KODEX 코스닥150선물인버스', '4,935']]\n"
     ]
    }
   ],
   "source": [
    "codes = ['252670','251340']\n",
    "price = []\n",
    "\n",
    "for code in codes:\n",
    "    url = 'https://finance.naver.com/item/main.nhn?code='+code\n",
    "    req = requests.get(url)\n",
    "    html =  req.text\n",
    "    soup = BeautifulSoup(html, 'html.parser')\n",
    "    title = soup.select_one(\"#middle > div.h_company > div.wrap_company > h2 > a\")\n",
    "    today = soup.select_one('div > p.no_today > em > span.blind')\n",
    "    # print(today)\n",
    "    price.append([title.get_text(),today.get_text()])\n",
    "    \n",
    "print(price)"
   ]
  },
  {
   "cell_type": "code",
   "execution_count": 6,
   "metadata": {},
   "outputs": [
    {
     "name": "stdout",
     "output_type": "stream",
     "text": [
      "          store sido-gu                                             add  \\\n",
      "0          종각역점  서울 종로구                    서울특별시 종로구 종로 60-1 종로2가 102-3   \n",
      "1   부산아트몰링영풍문고점  부산 사하구             부산광역시 사하구 낙동남로 1413 (하단동, 아트몰링) 13층   \n",
      "2       광명GIDC점  경기 광명시         경기도 광명시 일직로 43 일직동 514 지하2층 G249, G250호   \n",
      "3           이천점  경기 이천시                  경기도 이천시 어재연로 35 (창전동) 1~3층 할리스   \n",
      "4       미사가로수길점  경기 하남시      경기도 하남시 미사강변한강로 295 (망월동, 하남미사롯데캐슬헤븐시티Ⅱ) .   \n",
      "..          ...     ...                                             ...   \n",
      "85         개화산점  서울 강서구              서울특별시 강서구 양천로 28 (방화동, 벽산에어트리움) 1층   \n",
      "86      울산달동DT점   울산 남구                 울산광역시 남구 번영로 82 (달동 1297-1) 할리스   \n",
      "87       송도학원가점  인천 연수구                     인천광역시 연수구 신송로 168 송도동 20-13   \n",
      "88        인천당하점   인천 서구                 인천광역시 서구 서곶로 788 (당하동, 홀리랜드) 1층   \n",
      "89        시흥은계점  경기 시흥시  경기도 시흥시 은계번영길 13 (은행동, 아리테타워) 107,108,203~205호   \n",
      "\n",
      "           phone  \n",
      "0    02-736-3399  \n",
      "1   051-201-0621  \n",
      "2   02-6914-6550  \n",
      "3   031-635-6655  \n",
      "4   031-699-8674  \n",
      "..           ...  \n",
      "85  02-2064-1455  \n",
      "86  052-275-3022  \n",
      "87  032-204-7700  \n",
      "88  032-561-1578  \n",
      "89  031-520-8147  \n",
      "\n",
      "[90 rows x 4 columns]\n"
     ]
    }
   ],
   "source": [
    "def hollys_store(result):\n",
    "    \n",
    "    for page in range(1,10):\n",
    "        url = 'https://www.hollys.co.kr/store/korea/korStore2.do?pageNo=%d&sido=&gugun=&store='%page\n",
    "        req = requests.get(url)\n",
    "        html = req.text\n",
    "        soup = BeautifulSoup(html,'html.parser')\n",
    "        # store = soup.find('table', class_='tb_store')\n",
    "        store = soup.select_one('#contents > div.content > fieldset > fieldset > div.tableType01 > table > tbody')\n",
    "        # print(store)\n",
    "        for td in store.select('tr'):\n",
    "            \n",
    "            tds = td.select('td')\n",
    "            # print(tds)\n",
    "            result.append([tds[1].get_text(), tds[0].get_text(), tds[3].get_text(), tds[-1].get_text()])\n",
    "            # try:\n",
    "            # except:\n",
    "            #     pass\n",
    "    return pd.DataFrame(result, columns=['store', 'sido-gu','add','phone'])\n",
    "\n",
    "result = []\n",
    "\n",
    "print(hollys_store(result))\n",
    "    "
   ]
  },
  {
   "cell_type": "code",
   "execution_count": 7,
   "metadata": {},
   "outputs": [
    {
     "name": "stdout",
     "output_type": "stream",
     "text": [
      "미니언즈2 평점8.9 예매율27.2%\n",
      "외계+인 1부 평점7.1 예매율25.1%\n",
      "탑건: 매버릭 평점9.4 예매율14.8%\n",
      "한산: 용의 출현 평점8.1 예매율14.0%\n",
      "헤어질 결심 평점8.1 예매율4.6%\n",
      "명탐정 코난: 할로윈의 신부 평점8.3 예매율3.2%\n",
      "비상선언 평점8.5 예매율2.8%\n",
      "토르: 러브 앤 썬더 평점5.2 예매율2.5%\n",
      "비욘드 라이브 더 무비 : 엑소의 사다리 타고 세계여행3 평점7.8 예매율0.9%\n",
      "썸머 필름을 타고! 평점8.7 예매율0.8%\n",
      "엘비스 평점8.6 예매율0.5%\n",
      "뽀로로 극장판 드래곤캐슬 대모험 평점6.4 예매율0.5%\n",
      "멘 평점5.9 예매율0.4%\n",
      "그레이 맨 평점8.1 예매율0.3%\n",
      "뒤틀린 집 평점8.0 예매율0.3%\n",
      "아이를 위한 아이 평점8.7 예매율0.3%\n",
      "범죄도시2 평점8.3 예매율0.2%\n",
      "로스트 도터 평점8.8 예매율0.1%\n",
      "더 킬러: 죽어도 되는 아이 평점7.5 예매율0.1%\n",
      "체리마호: 30살까지 동정이면 마법사가 될 수 있대 평점9.1 예매율0.1%\n"
     ]
    }
   ],
   "source": [
    "url = 'https://movie.daum.net/ranking/reservation'\n",
    "\n",
    "req = requests.get(url)\n",
    "html = req.text\n",
    "soup = BeautifulSoup(html, 'html.parser')\n",
    "\n",
    "posters = soup.select_one('#mainContent > div > div.box_ranking > ol')\n",
    "for poster in posters.select('li'):\n",
    "    title = poster.select_one('strong.tit_item > a').get_text()\n",
    "    rate = poster.select('span.txt_append > span.info_txt')[0].get_text()\n",
    "    reservationrate = poster.select('span.txt_append > span.info_txt')[1].get_text()\n",
    "    print(title, rate, reservationrate)\n",
    "\n"
   ]
  },
  {
   "cell_type": "code",
   "execution_count": 8,
   "metadata": {},
   "outputs": [
    {
     "name": "stdout",
     "output_type": "stream",
     "text": [
      "미니언즈2 8.9 27.2%\n",
      "외계+인 1부 7.1 25.1%\n",
      "탑건: 매버릭 9.4 14.8%\n",
      "한산: 용의 출현 8.1 14.0%\n",
      "헤어질 결심 8.1 4.6%\n",
      "명탐정 코난: 할로윈의 신부 8.3 3.2%\n",
      "비상선언 8.5 2.8%\n",
      "토르: 러브 앤 썬더 5.2 2.5%\n",
      "비욘드 라이브 더 무비 : 엑소의 사다리 타고 세계여행3 7.8 0.9%\n",
      "썸머 필름을 타고! 8.7 0.8%\n",
      "엘비스 8.6 0.5%\n",
      "뽀로로 극장판 드래곤캐슬 대모험 6.4 0.5%\n",
      "멘 5.9 0.4%\n",
      "그레이 맨 8.1 0.3%\n",
      "뒤틀린 집 8.0 0.3%\n",
      "아이를 위한 아이 8.7 0.3%\n",
      "범죄도시2 8.3 0.2%\n",
      "로스트 도터 8.8 0.1%\n",
      "더 킬러: 죽어도 되는 아이 7.5 0.1%\n",
      "체리마호: 30살까지 동정이면 마법사가 될 수 있대 9.1 0.1%\n"
     ]
    }
   ],
   "source": [
    "ols = soup.find('ol', class_='list_movieranking')\n",
    "rankcount = ols.find_all('div', class_=\"thumb_cont\")\n",
    "\n",
    "\n",
    "for i in rankcount:\n",
    "    moviename = i.find('a', class_=\"link_txt\").get_text()\n",
    "    movierate = i.find('span', class_=\"txt_grade\").get_text()\n",
    "    reservrate = i.find('span', class_=\"txt_num\").get_text()\n",
    "    print(moviename, movierate, reservrate)"
   ]
  },
  {
   "cell_type": "code",
   "execution_count": 9,
   "metadata": {},
   "outputs": [
    {
     "name": "stdout",
     "output_type": "stream",
     "text": [
      "   region temperture humid\n",
      "0      강릉       21.5  14.7\n",
      "1     강진군       20.7      \n",
      "2      강화       22.4      \n",
      "3      거제       18.1      \n",
      "4      거창       18.0   0.0\n",
      "..    ...        ...   ...\n",
      "74    함양군       21.2      \n",
      "75     합천       16.6      \n",
      "76     해남       22.0      \n",
      "77     홍성       20.1      \n",
      "78     홍천       20.1   1.4\n",
      "\n",
      "[79 rows x 3 columns]\n"
     ]
    }
   ],
   "source": [
    "import requests\n",
    "from bs4 import BeautifulSoup\n",
    "import pandas as pd\n",
    "\n",
    "\n",
    "req = requests.get('http://www.weather.go.kr/weather/observation/currentweather.jsp')\n",
    "soup = BeautifulSoup(req.text,'html.parser')\n",
    "trs = soup.select(\"#weather_table > tbody > tr\")\n",
    "\n",
    "result = []\n",
    "\n",
    "for td in trs:\n",
    "    region = td.select_one('td:nth-of-type(1)').get_text()\n",
    "    temper = td.select_one('td:nth-of-type(7)').get_text()\n",
    "    humid = td.select_one('td:nth-of-type(9)').get_text()\n",
    "    result.append([region, temper, humid])\n",
    "    \n",
    "df = pd.DataFrame(result, columns=['region', 'temperture','humid'])\n",
    "print(df)\n",
    "df.to_csv('./csv/temperture.csv')"
   ]
  },
  {
   "cell_type": "code",
   "execution_count": 10,
   "metadata": {},
   "outputs": [
    {
     "ename": "KeyError",
     "evalue": "\"['대구', '광주'] not in index\"",
     "output_type": "error",
     "traceback": [
      "\u001b[1;31m---------------------------------------------------------------------------\u001b[0m",
      "\u001b[1;31mKeyError\u001b[0m                                  Traceback (most recent call last)",
      "\u001b[1;32md:\\Workspace\\PythonProjects\\d04.ipynb 셀 7\u001b[0m in \u001b[0;36m<cell line: 5>\u001b[1;34m()\u001b[0m\n\u001b[0;32m      <a href='vscode-notebook-cell:/d%3A/Workspace/PythonProjects/d04.ipynb#ch0000006?line=1'>2</a>\u001b[0m df \u001b[39m=\u001b[39m pd\u001b[39m.\u001b[39mread_csv(\u001b[39m'\u001b[39m\u001b[39m./csv/temperture.csv\u001b[39m\u001b[39m'\u001b[39m, index_col\u001b[39m=\u001b[39m\u001b[39m\"\u001b[39m\u001b[39mregion\u001b[39m\u001b[39m\"\u001b[39m)\n\u001b[0;32m      <a href='vscode-notebook-cell:/d%3A/Workspace/PythonProjects/d04.ipynb#ch0000006?line=3'>4</a>\u001b[0m \u001b[39m# 행 추출\u001b[39;00m\n\u001b[1;32m----> <a href='vscode-notebook-cell:/d%3A/Workspace/PythonProjects/d04.ipynb#ch0000006?line=4'>5</a>\u001b[0m city_df \u001b[39m=\u001b[39m df\u001b[39m.\u001b[39;49mloc[[\u001b[39m'\u001b[39;49m\u001b[39m서울\u001b[39;49m\u001b[39m'\u001b[39;49m, \u001b[39m'\u001b[39;49m\u001b[39m인천\u001b[39;49m\u001b[39m'\u001b[39;49m, \u001b[39m'\u001b[39;49m\u001b[39m대전\u001b[39;49m\u001b[39m'\u001b[39;49m, \u001b[39m'\u001b[39;49m\u001b[39m대구\u001b[39;49m\u001b[39m'\u001b[39;49m, \u001b[39m'\u001b[39;49m\u001b[39m광주\u001b[39;49m\u001b[39m'\u001b[39;49m, \u001b[39m'\u001b[39;49m\u001b[39m부산\u001b[39;49m\u001b[39m'\u001b[39;49m,\u001b[39m'\u001b[39;49m\u001b[39m울산\u001b[39;49m\u001b[39m'\u001b[39;49m]]\n\u001b[0;32m      <a href='vscode-notebook-cell:/d%3A/Workspace/PythonProjects/d04.ipynb#ch0000006?line=5'>6</a>\u001b[0m \u001b[39mprint\u001b[39m(city_df)\n",
      "File \u001b[1;32mc:\\Users\\admin\\anaconda3\\lib\\site-packages\\pandas\\core\\indexing.py:967\u001b[0m, in \u001b[0;36m_LocationIndexer.__getitem__\u001b[1;34m(self, key)\u001b[0m\n\u001b[0;32m    964\u001b[0m axis \u001b[39m=\u001b[39m \u001b[39mself\u001b[39m\u001b[39m.\u001b[39maxis \u001b[39mor\u001b[39;00m \u001b[39m0\u001b[39m\n\u001b[0;32m    966\u001b[0m maybe_callable \u001b[39m=\u001b[39m com\u001b[39m.\u001b[39mapply_if_callable(key, \u001b[39mself\u001b[39m\u001b[39m.\u001b[39mobj)\n\u001b[1;32m--> 967\u001b[0m \u001b[39mreturn\u001b[39;00m \u001b[39mself\u001b[39;49m\u001b[39m.\u001b[39;49m_getitem_axis(maybe_callable, axis\u001b[39m=\u001b[39;49maxis)\n",
      "File \u001b[1;32mc:\\Users\\admin\\anaconda3\\lib\\site-packages\\pandas\\core\\indexing.py:1191\u001b[0m, in \u001b[0;36m_LocIndexer._getitem_axis\u001b[1;34m(self, key, axis)\u001b[0m\n\u001b[0;32m   1188\u001b[0m     \u001b[39mif\u001b[39;00m \u001b[39mhasattr\u001b[39m(key, \u001b[39m\"\u001b[39m\u001b[39mndim\u001b[39m\u001b[39m\"\u001b[39m) \u001b[39mand\u001b[39;00m key\u001b[39m.\u001b[39mndim \u001b[39m>\u001b[39m \u001b[39m1\u001b[39m:\n\u001b[0;32m   1189\u001b[0m         \u001b[39mraise\u001b[39;00m \u001b[39mValueError\u001b[39;00m(\u001b[39m\"\u001b[39m\u001b[39mCannot index with multidimensional key\u001b[39m\u001b[39m\"\u001b[39m)\n\u001b[1;32m-> 1191\u001b[0m     \u001b[39mreturn\u001b[39;00m \u001b[39mself\u001b[39;49m\u001b[39m.\u001b[39;49m_getitem_iterable(key, axis\u001b[39m=\u001b[39;49maxis)\n\u001b[0;32m   1193\u001b[0m \u001b[39m# nested tuple slicing\u001b[39;00m\n\u001b[0;32m   1194\u001b[0m \u001b[39mif\u001b[39;00m is_nested_tuple(key, labels):\n",
      "File \u001b[1;32mc:\\Users\\admin\\anaconda3\\lib\\site-packages\\pandas\\core\\indexing.py:1132\u001b[0m, in \u001b[0;36m_LocIndexer._getitem_iterable\u001b[1;34m(self, key, axis)\u001b[0m\n\u001b[0;32m   1129\u001b[0m \u001b[39mself\u001b[39m\u001b[39m.\u001b[39m_validate_key(key, axis)\n\u001b[0;32m   1131\u001b[0m \u001b[39m# A collection of keys\u001b[39;00m\n\u001b[1;32m-> 1132\u001b[0m keyarr, indexer \u001b[39m=\u001b[39m \u001b[39mself\u001b[39;49m\u001b[39m.\u001b[39;49m_get_listlike_indexer(key, axis)\n\u001b[0;32m   1133\u001b[0m \u001b[39mreturn\u001b[39;00m \u001b[39mself\u001b[39m\u001b[39m.\u001b[39mobj\u001b[39m.\u001b[39m_reindex_with_indexers(\n\u001b[0;32m   1134\u001b[0m     {axis: [keyarr, indexer]}, copy\u001b[39m=\u001b[39m\u001b[39mTrue\u001b[39;00m, allow_dups\u001b[39m=\u001b[39m\u001b[39mTrue\u001b[39;00m\n\u001b[0;32m   1135\u001b[0m )\n",
      "File \u001b[1;32mc:\\Users\\admin\\anaconda3\\lib\\site-packages\\pandas\\core\\indexing.py:1327\u001b[0m, in \u001b[0;36m_LocIndexer._get_listlike_indexer\u001b[1;34m(self, key, axis)\u001b[0m\n\u001b[0;32m   1324\u001b[0m ax \u001b[39m=\u001b[39m \u001b[39mself\u001b[39m\u001b[39m.\u001b[39mobj\u001b[39m.\u001b[39m_get_axis(axis)\n\u001b[0;32m   1325\u001b[0m axis_name \u001b[39m=\u001b[39m \u001b[39mself\u001b[39m\u001b[39m.\u001b[39mobj\u001b[39m.\u001b[39m_get_axis_name(axis)\n\u001b[1;32m-> 1327\u001b[0m keyarr, indexer \u001b[39m=\u001b[39m ax\u001b[39m.\u001b[39;49m_get_indexer_strict(key, axis_name)\n\u001b[0;32m   1329\u001b[0m \u001b[39mreturn\u001b[39;00m keyarr, indexer\n",
      "File \u001b[1;32mc:\\Users\\admin\\anaconda3\\lib\\site-packages\\pandas\\core\\indexes\\base.py:5782\u001b[0m, in \u001b[0;36mIndex._get_indexer_strict\u001b[1;34m(self, key, axis_name)\u001b[0m\n\u001b[0;32m   5779\u001b[0m \u001b[39melse\u001b[39;00m:\n\u001b[0;32m   5780\u001b[0m     keyarr, indexer, new_indexer \u001b[39m=\u001b[39m \u001b[39mself\u001b[39m\u001b[39m.\u001b[39m_reindex_non_unique(keyarr)\n\u001b[1;32m-> 5782\u001b[0m \u001b[39mself\u001b[39;49m\u001b[39m.\u001b[39;49m_raise_if_missing(keyarr, indexer, axis_name)\n\u001b[0;32m   5784\u001b[0m keyarr \u001b[39m=\u001b[39m \u001b[39mself\u001b[39m\u001b[39m.\u001b[39mtake(indexer)\n\u001b[0;32m   5785\u001b[0m \u001b[39mif\u001b[39;00m \u001b[39misinstance\u001b[39m(key, Index):\n\u001b[0;32m   5786\u001b[0m     \u001b[39m# GH 42790 - Preserve name from an Index\u001b[39;00m\n",
      "File \u001b[1;32mc:\\Users\\admin\\anaconda3\\lib\\site-packages\\pandas\\core\\indexes\\base.py:5845\u001b[0m, in \u001b[0;36mIndex._raise_if_missing\u001b[1;34m(self, key, indexer, axis_name)\u001b[0m\n\u001b[0;32m   5842\u001b[0m     \u001b[39mraise\u001b[39;00m \u001b[39mKeyError\u001b[39;00m(\u001b[39mf\u001b[39m\u001b[39m\"\u001b[39m\u001b[39mNone of [\u001b[39m\u001b[39m{\u001b[39;00mkey\u001b[39m}\u001b[39;00m\u001b[39m] are in the [\u001b[39m\u001b[39m{\u001b[39;00maxis_name\u001b[39m}\u001b[39;00m\u001b[39m]\u001b[39m\u001b[39m\"\u001b[39m)\n\u001b[0;32m   5844\u001b[0m not_found \u001b[39m=\u001b[39m \u001b[39mlist\u001b[39m(ensure_index(key)[missing_mask\u001b[39m.\u001b[39mnonzero()[\u001b[39m0\u001b[39m]]\u001b[39m.\u001b[39munique())\n\u001b[1;32m-> 5845\u001b[0m \u001b[39mraise\u001b[39;00m \u001b[39mKeyError\u001b[39;00m(\u001b[39mf\u001b[39m\u001b[39m\"\u001b[39m\u001b[39m{\u001b[39;00mnot_found\u001b[39m}\u001b[39;00m\u001b[39m not in index\u001b[39m\u001b[39m\"\u001b[39m)\n",
      "\u001b[1;31mKeyError\u001b[0m: \"['대구', '광주'] not in index\""
     ]
    }
   ],
   "source": [
    "import pandas as pd\n",
    "df = pd.read_csv('./csv/temperture.csv', index_col=\"region\")\n",
    "\n",
    "# 행 추출\n",
    "city_df = df.loc[['서울', '인천', '대전', '대구', '광주', '부산','울산']]\n",
    "print(city_df)"
   ]
  },
  {
   "cell_type": "code",
   "execution_count": null,
   "metadata": {},
   "outputs": [
    {
     "data": {
      "image/png": "[encoded data removed]",
      "text/plain": [
       "<Figure size 864x504 with 1 Axes>"
      ]
     },
     "metadata": {
      "needs_background": "light"
     },
     "output_type": "display_data"
    }
   ],
   "source": [
    "import matplotlib.font_manager as fm\n",
    "import matplotlib as mpl\n",
    "import matplotlib.pyplot as plt\n",
    "\n",
    "font_name = fm.FontProperties(fname='C:\\\\Windows\\\\Fonts\\\\NanumBarunGothic.ttf').get_name()\n",
    "mpl.rc('font', family=font_name)\n",
    "ax = city_df.plot(kind='bar', title='날씨', figsize=(12,7), legend=True , fontsize=12)\n",
    "ax.set_xlabel('city', fontsize=12)\n",
    "ax.set_ylabel('temp/humid', fontsize=12)\n",
    "ax.legend(['temp', 'humid'], fontsize=12)\n",
    "plt.show()\n",
    "\n",
    "\n"
   ]
  },
  {
   "cell_type": "markdown",
   "metadata": {},
   "source": [
    "## Selenium\n"
   ]
  },
  {
   "cell_type": "code",
   "execution_count": 2,
   "metadata": {},
   "outputs": [
    {
     "name": "stderr",
     "output_type": "stream",
     "text": [
      "C:\\Users\\admin\\AppData\\Local\\Temp\\ipykernel_13556\\1845080122.py:7: DeprecationWarning: executable_path has been deprecated, please pass in a Service object\n",
      "  driver = wd.Chrome(path, options=options)\n"
     ]
    }
   ],
   "source": [
    "from selenium import webdriver as wd\n",
    "from selenium.webdriver.common.by import By\n",
    "\n",
    "path = 'D:\\\\program_files\\\\chromedriver_win32\\\\chromedriver.exe'\n",
    "options = wd.ChromeOptions()\n",
    "options.add_experimental_option('excludeSwitches',['enable-logging'])\n",
    "driver = wd.Chrome(path, options=options)"
   ]
  },
  {
   "cell_type": "code",
   "execution_count": null,
   "metadata": {},
   "outputs": [],
   "source": [
    "driver.get('https://naver.com')\n",
    "\n",
    "driver.find_element(By.ID, 'query').send_keys('python')\n",
    "driver.find_element(By.ID, 'search_btn').click()"
   ]
  },
  {
   "cell_type": "code",
   "execution_count": null,
   "metadata": {},
   "outputs": [
    {
     "data": {
      "image/png": "[encoded data removed]",
      "text/plain": [
       "<Figure size 432x288 with 1 Axes>"
      ]
     },
     "metadata": {},
     "output_type": "display_data"
    }
   ],
   "source": [
    "driver.get('https://www.youtube.com/c/paikscuisine/videos')\n",
    "\n",
    "page = driver.page_source\n",
    "soup = BeautifulSoup(page, 'html.parser')\n",
    "all_videos = soup.find_all(id='dismissible')\n",
    "# print(all_videos)\n",
    "driver.refresh()\n",
    "datas = []\n",
    "for i in all_videos:\n",
    "    title = i.find(id='video-title').get_text()\n",
    "    views = i.select_one(\"#metadata-line > span:nth-of-type(1)\").get_text()\n",
    "    datas.append([title, views])\n",
    "    \n",
    "df = pd.DataFrame(datas, columns=['title', 'views'])\n",
    "# print(df)\n",
    "\n",
    "df.to_csv('./csv/youtube.csv', mode='w', encoding='utf-8-sig', index=True)\n",
    "dict_youtube = {'100' : 0, '50' : 0, '10' : 0}\n",
    "for item in datas:\n",
    "    count = float(item[1].split('조회수')[1].split('만회')[0].strip())\n",
    "    if  count > 100:\n",
    "        dict_youtube['100'] += 1\n",
    "    elif count > 50:\n",
    "        dict_youtube['50'] += 1\n",
    "    elif count > 10:\n",
    "        dict_youtube['10'] += 1\n",
    "# print(dict_youtube)\n",
    "\n",
    "font_name = fm.FontProperties(fname='C:\\\\Windows\\\\Fonts\\\\NanumBarunGothic.ttf').get_name()\n",
    "mpl.rc('font', family=font_name)\n",
    "\n",
    "plt.pie(dict_youtube.values(), labels=dict_youtube.keys(), autopct='%.1f%%', startangle=260, counterclock=False)\n",
    "plt.show()\n",
    "\n",
    "    \n"
   ]
  },
  {
   "cell_type": "code",
   "execution_count": 45,
   "metadata": {},
   "outputs": [
    {
     "name": "stderr",
     "output_type": "stream",
     "text": [
      "C:\\Users\\admin\\AppData\\Local\\Temp\\ipykernel_13556\\2477973728.py:6: DeprecationWarning: executable_path has been deprecated, please pass in a Service object\n",
      "  driver = webdriver.Chrome(path)\n"
     ]
    }
   ],
   "source": [
    "from selenium import webdriver\n",
    "from selenium.webdriver.common.by import By\n",
    "import re\n",
    "\n",
    "path = 'D:\\\\program_files\\\\chromedriver_win32\\\\chromedriver.exe'\n",
    "driver = webdriver.Chrome(path)\n",
    "driver.implicitly_wait(10)\n",
    "driver.get('https://www.melon.com/chart/index.htm')\n",
    "\n",
    "# tobdy = driver.find_element(By.XPATH,'/html/body/div/div[3]/div/div/div[3]/form/div/table/tbody')\n",
    "tbody = driver.find_element(By.XPATH,'//*[@id=\"frm\"]/div/table/tbody')\n",
    "trs = tbody.find_elements(By.TAG_NAME,'tr')\n",
    "top100 = []\n",
    "\n",
    "for tr in trs:\n",
    "    # for td in tr.find_elements(By.TAG_NAME,'td'):\n",
    "    rank = tr.find_element(By.CLASS_NAME,'rank').text\n",
    "    title = tr.find_element(By.CLASS_NAME,'wrap_song_info').find_element(By.TAG_NAME,'a').text\n",
    "    singer = tr.find_element(By.CSS_SELECTOR,'div.rank02').find_element(By.TAG_NAME,'a').text\n",
    "    album = tr.find_element(By.CSS_SELECTOR,'div.rank03').find_element(By.TAG_NAME,'a').text\n",
    "    likes = tr.find_element(By.CLASS_NAME,'like').find_element(By.CLASS_NAME,'cnt').text\n",
    "    likes = re.sub(',',\"\",likes)\n",
    "    top100.append([rank, title,singer, album, likes])\n",
    "    \n",
    "with open('./csv/melon100.csv', 'w', encoding='utf-8-sig') as file:\n",
    "    file.write('rank,title,singer,album, likes\\n')\n",
    "    for item in top100:\n",
    "        row = ','.join(item)\n",
    "        file.write(row + '\\n')\n",
    "\n"
   ]
  },
  {
   "cell_type": "code",
   "execution_count": 44,
   "metadata": {},
   "outputs": [
    {
     "name": "stdout",
     "output_type": "stream",
     "text": [
      "\n",
      "총건수\n",
      "71,830\n"
     ]
    }
   ],
   "source": [
    "page = driver.page_source\n",
    "soup = BeautifulSoup(page, 'html.parser')\n",
    "print(soup.select_one('#lst50 > td:nth-child(8) > div > button > span.cnt').get_text())"
   ]
  }
 ],
 "metadata": {
  "kernelspec": {
   "display_name": "Python 3.9.12 ('base')",
   "language": "python",
   "name": "python3"
  },
  "language_info": {
   "codemirror_mode": {
    "name": "ipython",
    "version": 3
   },
   "file_extension": ".py",
   "mimetype": "text/x-python",
   "name": "python",
   "nbconvert_exporter": "python",
   "pygments_lexer": "ipython3",
   "version": "3.9.12"
  },
  "orig_nbformat": 4,
  "vscode": {
   "interpreter": {
    "hash": "610a6f344c2137faf927ea819c63f6cee33a2c04455044b28099f39fe9722347"
   }
  }
 },
 "nbformat": 4,
 "nbformat_minor": 2
}
