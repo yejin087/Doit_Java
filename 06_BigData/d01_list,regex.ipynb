{
 "cells": [
  {
   "cell_type": "code",
   "execution_count": null,
   "metadata": {},
   "outputs": [],
   "source": [
    "print(\"hello world\")"
   ]
  },
  {
   "cell_type": "markdown",
   "metadata": {},
   "source": [
    "## list"
   ]
  },
  {
   "cell_type": "code",
   "execution_count": null,
   "metadata": {},
   "outputs": [],
   "source": [
    "e = '안녕하세요'\n",
    "print(e[0:2])\n",
    "print(e[1:3])\n",
    "print(e[0:5:2])"
   ]
  },
  {
   "cell_type": "code",
   "execution_count": null,
   "metadata": {},
   "outputs": [],
   "source": [
    "alist = list()\n",
    "print(alist, type(alist))\n",
    "\n",
    "alist2 = [1,2,3,4,5]\n",
    "print(alist2, type(alist2))\n",
    "\n",
    "alist = [1,2,3,4]\n",
    "print(alist)\n",
    "print(alist[0])\n",
    "print(len(alist))\n",
    "\n",
    "# 마지막 값 인덱스 -1\n",
    "print(alist[-1])\n",
    "\n",
    "# 리스트 값 수정\n",
    "alist[0] = 99\n",
    "print(alist[0])\n",
    "\n",
    "# 리스트 안에 리스트\n",
    "alist[0] = [1,2,3]\n",
    "print(alist[0])\n",
    "\n",
    "alist[0] = '문자'\n",
    "print(alist[0])\n",
    "\n",
    "# 추가\n",
    "alist.append(\"append to list\")\n",
    "print(alist)\n",
    "\n",
    "# 삭제 \n",
    "alist.remove(4)\n",
    "print(alist)\n"
   ]
  },
  {
   "cell_type": "code",
   "execution_count": null,
   "metadata": {},
   "outputs": [],
   "source": [
    "sum = 0\n",
    "for i in range(101):\n",
    "    if i%7 == 0:\n",
    "        sum += i\n",
    "        print(i)\n",
    "print(sum)"
   ]
  },
  {
   "cell_type": "code",
   "execution_count": null,
   "metadata": {},
   "outputs": [],
   "source": [
    "for _ in range(3):\n",
    "    for _ in range(3):\n",
    "        print('*',end=\"\")\n",
    "    print(\"\\n\")"
   ]
  },
  {
   "cell_type": "code",
   "execution_count": null,
   "metadata": {},
   "outputs": [],
   "source": [
    "def sum(a):\n",
    "    sum = 0\n",
    "    for i in range(a+1):\n",
    "        sum += i\n",
    "    return sum\n",
    "\n",
    "print(sum(10))"
   ]
  },
  {
   "cell_type": "markdown",
   "metadata": {},
   "source": [
    "## 문자열 다루기"
   ]
  },
  {
   "cell_type": "code",
   "execution_count": null,
   "metadata": {},
   "outputs": [],
   "source": [
    "import re\n",
    "\n",
    "text = \"안녕하세요 <title>지금은 문자열 연습</title>\"\n",
    "subtract = re.search(\" <title.*/title>\", text)\n",
    "print(subtract)"
   ]
  },
  {
   "cell_type": "code",
   "execution_count": null,
   "metadata": {},
   "outputs": [],
   "source": [
    "import re, codecs\n",
    "\n",
    "f = codecs.open('friends101.txt', 'r', encoding='utf-8')\n",
    "script101 = f.read()\n",
    "\n",
    "print(script101[:100])"
   ]
  },
  {
   "cell_type": "code",
   "execution_count": null,
   "metadata": {},
   "outputs": [],
   "source": [
    "print(type(re.findall(r'Monica:.+', script101)))\n",
    "\n",
    "for i in re.findall(r'Monica:.+', script101)[:10]:\n",
    "    print(i)\n",
    "\n",
    "   \n"
   ]
  },
  {
   "cell_type": "code",
   "execution_count": null,
   "metadata": {},
   "outputs": [],
   "source": [
    "for i in re.findall(r'All:.+', script101)[:10]:\n",
    "    print(i)"
   ]
  },
  {
   "cell_type": "markdown",
   "metadata": {},
   "source": [
    "## 정규식 다루기"
   ]
  },
  {
   "cell_type": "code",
   "execution_count": null,
   "metadata": {},
   "outputs": [],
   "source": [
    "#미리 정규식을 설정\n",
    "# . : 아무문자 , d: 숫자\n",
    "# *( 0이상) , +(1이상), ?(0이상 이하) 앞의 문자가 반복 되는 횟수\n",
    "char = re.compile(r'[A-Z][a-z]+:.') # 대문자로 시작하고 다음은 소문자인데 여러개가 오고 :로 끝나는 문자 찾기\n",
    "character = set(re.findall(char,script101))\n",
    "print(character)\n",
    "\n",
    "#  re.sub（정규 표현식, 대상 문자열 , 치환 문자）\n",
    "\n",
    "# 정규 표현식 - 검색 패턴을 지정\n",
    "# 대상 문자열 - 변경하고 싶은 문자 \n",
    "# 치환 문자 - 변경을 적용하고 싶은 문자\n",
    "for i in character:\n",
    "    print(re.sub(\":\",\"\",i))"
   ]
  },
  {
   "cell_type": "code",
   "execution_count": null,
   "metadata": {},
   "outputs": [],
   "source": [
    "a = 'toadu@naver.com apple@gamil.com, life@gamil.com'\n",
    "char = re.compile(r'[a-z]+@[a-z.]+')\n",
    "findsite = re.findall(char,a)\n",
    "print(findsite)"
   ]
  },
  {
   "cell_type": "code",
   "execution_count": null,
   "metadata": {},
   "outputs": [],
   "source": [
    "word = ['apple', 'cat', 'asise', 'blow', 'above']\n",
    "\n",
    "#a가오고, 뒤에 [a-z]에 문자가 여러개가 올 수 있는 문자는 모두 추출\n",
    "print(re.findall(r'a[a-z]+',\" \".join(word)))\n",
    "\n",
    "# 맨저음에 a가 나오는 문자 추출\n",
    "for i in word:\n",
    "    m = re.match(r'a[a-z]+', i)\n",
    "    # 동일 의미\n",
    "    m = re.match(r'a\\D+', i)\n",
    "    if m:\n",
    "        print(m.group())"
   ]
  },
  {
   "cell_type": "code",
   "execution_count": 228,
   "metadata": {},
   "outputs": [
    {
     "name": "stdout",
     "output_type": "stream",
     "text": [
      "[['구', '한국인', '외국인', '외국인비율(%)'], ['Jongrogu', 151767.0, 11093.0, 6.8], ['Jongru', 126409.0, 10254.0, 7.5], ['Yongsangu', 228830.0, 16159.0, 6.6], ['Gurogu', 406748.0, 33102.0, 7.5], ['Guemcheongu', 233371.0, 19497.0, 7.7], ['Youngdeungpogu', 368402.0, 34076.0, 8.5]]\n"
     ]
    }
   ],
   "source": [
    "import csv, re\n",
    "\n",
    "f = open('popSeoul.csv','r')\n",
    "reader = csv.reader(f)\n",
    "\n",
    "output = []\n",
    "for i in reader:\n",
    "    tmp = []\n",
    "    for j in i:\n",
    "        try:\n",
    "            if re.search('\\d',j):\n",
    "                tmp.append(float(re.sub(',','',j)))\n",
    "            else:\n",
    "                tmp.append(j)\n",
    "        except:\n",
    "            pass\n",
    "    output.append(tmp)\n",
    "    \n",
    "\n",
    "new = [['구', '한국인', '외국인', '외국인비율(%)']]\n",
    "for i in output:\n",
    "    # print(i)\n",
    "    try:\n",
    "        foreign = round(i[2]/(i[1]+i[2])*100,1)\n",
    "        # print(foreign)\n",
    "        if foreign > 5:\n",
    "            new.append([i[0],i[1],i[2], foreign])\n",
    "    except:\n",
    "        pass\n",
    "    \n",
    "print(new)"
   ]
  },
  {
   "cell_type": "markdown",
   "metadata": {},
   "source": [
    "<img src=\"이미지 URL\">"
   ]
  },
  {
   "cell_type": "code",
   "execution_count": null,
   "metadata": {},
   "outputs": [],
   "source": []
  },
  {
   "cell_type": "code",
   "execution_count": null,
   "metadata": {},
   "outputs": [],
   "source": []
  }
 ],
 "metadata": {
  "kernelspec": {
   "display_name": "Python 3.9.12 ('base')",
   "language": "python",
   "name": "python3"
  },
  "language_info": {
   "codemirror_mode": {
    "name": "ipython",
    "version": 3
   },
   "file_extension": ".py",
   "mimetype": "text/x-python",
   "name": "python",
   "nbconvert_exporter": "python",
   "pygments_lexer": "ipython3",
   "version": "3.9.12"
  },
  "orig_nbformat": 4,
  "vscode": {
   "interpreter": {
    "hash": "610a6f344c2137faf927ea819c63f6cee33a2c04455044b28099f39fe9722347"
   }
  }
 },
 "nbformat": 4,
 "nbformat_minor": 2
}
