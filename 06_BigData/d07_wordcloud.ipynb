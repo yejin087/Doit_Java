{
 "cells": [
  {
   "cell_type": "code",
   "execution_count": null,
   "metadata": {},
   "outputs": [],
   "source": [
    "import pandas as pd\n",
    "import re\n",
    "from nltk.tokenize import word_tokenize\n",
    "from nltk.corpus import stopwords\n",
    "from nltk.stem import WordNetLemmatizer\n",
    "from wordcloud import STOPWORDS, WordCloud\n",
    "import nltk"
   ]
  },
  {
   "cell_type": "code",
   "execution_count": null,
   "metadata": {},
   "outputs": [],
   "source": [
    "# nltk.download()"
   ]
  },
  {
   "cell_type": "code",
   "execution_count": null,
   "metadata": {},
   "outputs": [],
   "source": [
    "all_data = pd.read_csv('./csv/riss_bigdata.csv', encoding='utf-8')\n",
    "all_title = all_data['제목']\n",
    "all_title"
   ]
  },
  {
   "cell_type": "code",
   "execution_count": null,
   "metadata": {},
   "outputs": [],
   "source": [
    "stopWords = set(stopwords.words('english'))\n",
    "lemma = WordNetLemmatizer()\n",
    "words = []\n",
    "\n",
    "for title in all_title:\n",
    "    EnWords = re.sub(r'[^A-Za-z]',' ', str(title))\n",
    "    EnWordsToken = word_tokenize(EnWords.lower())\n",
    "    EnWordsTokenStop = [w for w in EnWordsToken if w not in stopWords]\n",
    "    EnWordsTokenStopLemma = [lemma.lemmatize(w) for w in EnWordsTokenStop]\n",
    "    words.append(EnWordsTokenStopLemma)"
   ]
  },
  {
   "cell_type": "code",
   "execution_count": null,
   "metadata": {},
   "outputs": [],
   "source": [
    "words"
   ]
  },
  {
   "cell_type": "code",
   "execution_count": null,
   "metadata": {},
   "outputs": [],
   "source": [
    "from functools import reduce\n",
    "\n",
    "words2 = list(reduce(lambda x, y : x+y, words))"
   ]
  },
  {
   "cell_type": "code",
   "execution_count": null,
   "metadata": {},
   "outputs": [],
   "source": [
    "words2"
   ]
  },
  {
   "cell_type": "code",
   "execution_count": null,
   "metadata": {},
   "outputs": [],
   "source": [
    "from collections import Counter\n",
    "\n",
    "count = Counter(words2)\n",
    "\n",
    "word_count = dict()\n",
    "\n",
    "for tag, counts in count.most_common(50):\n",
    "    if( len(str(tag))> 1):\n",
    "        word_count[tag] = counts\n",
    "\n",
    "word_count"
   ]
  },
  {
   "cell_type": "code",
   "execution_count": null,
   "metadata": {},
   "outputs": [],
   "source": [
    "import matplotlib.pyplot as plt\n",
    "\n",
    "sorted_Keys = sorted(word_count, key = word_count.get, reverse=True)\n",
    "sorted_Values = sorted(word_count.values(), reverse=True)\n",
    "\n",
    "plt.bar(range(len(word_count)), sorted_Values, align='center')\n",
    "plt.xticks(range(len(word_count)), list(sorted_Keys), rotation = '85')\n",
    "plt.show()\n"
   ]
  },
  {
   "cell_type": "code",
   "execution_count": null,
   "metadata": {},
   "outputs": [],
   "source": [
    "del word_count['big']\n",
    "del word_count['data']"
   ]
  },
  {
   "cell_type": "code",
   "execution_count": null,
   "metadata": {},
   "outputs": [],
   "source": [
    "strpwords = set(STOPWORDS)\n",
    "wc = WordCloud(background_color='ivory', stopwords=stopwords, width=800, height=600)\n",
    "cloud = wc.generate_from_frequencies(word_count)\n",
    "plt.figure(figsize=(8,8))\n",
    "plt.imshow(cloud)\n",
    "plt.axis('off')\n",
    "plt.show()"
   ]
  },
  {
   "cell_type": "code",
   "execution_count": null,
   "metadata": {},
   "outputs": [],
   "source": []
  },
  {
   "cell_type": "code",
   "execution_count": null,
   "metadata": {},
   "outputs": [],
   "source": [
    "import json\n",
    "import re\n",
    "from konlpy.tag import Okt\n",
    "from collections import Counter\n",
    "import pytagcloud\n",
    "\n",
    "\n",
    "f = open('data.txt', encoding='utf-8')\n",
    "data = f.read()\n",
    "f.close()\n",
    "\n",
    "nlp = Okt()\n",
    "nouns = nlp.nouns(data)\n",
    "count = Counter(nouns)\n",
    "tag2 = count.most_common(10)\n",
    "tag2"
   ]
  },
  {
   "cell_type": "code",
   "execution_count": null,
   "metadata": {},
   "outputs": [],
   "source": [
    "taglist = pytagcloud.make_tags(tag2, maxsize=50)\n",
    "pytagcloud.create_tag_image(taglist,\n",
    "                            'pytag_word.png',\n",
    "                            size=(640,480),\n",
    "                            fontname='Korean',\n",
    "                            rectangular=False)"
   ]
  },
  {
   "cell_type": "code",
   "execution_count": 29,
   "metadata": {},
   "outputs": [],
   "source": [
    "import requests as req\n",
    "from bs4 import BeautifulSoup\n",
    "import urllib\n",
    "import pandas as pd\n",
    "\n",
    "# getVillageWaterQuality , getGugunDong\n",
    "def call_getVillageWaterQuality():\n",
    "    url = 'http://apis.data.go.kr/6260000/TownWaterQualityService/getVillageWaterQuality'\n",
    "    params ={'serviceKey' : 'l9KDvSgYZZPF7NGBPKjJgV6/pU+fhBakLsJSW1avERVypdf2WAD6J4uaF5XHRhOYdZnLhUFU/XFa5W8z+5wGqw==', \n",
    "            'pageNo' : '1', \n",
    "            'numOfRows' : '745',\n",
    "            'resultType' : 'json', \n",
    "            # 'argGugun' : '710', \n",
    "            # 'argHjd' : '330' \n",
    "            }\n",
    "\n",
    "    res = req.get(url, params=params)\n",
    "    # print(res.json())\n",
    "    \n",
    "    global df_quailty\n",
    "    df_quailty = pd.DataFrame(res.json()['getVillageWaterQuality']['item'])\n",
    "    df_quailty.rename(columns = {'argGugun' : 'siguCd', 'argHjd' : 'dongCd'}, inplace = True)\n",
    "    df_quailty.to_csv('./csv/busanwater_nums.csv', encoding='utf-8-sig')\n",
    "    # {'getVillageWaterQuality': \n",
    "    #     {'header': {'code': '00', 'message': 'NORMAL_CODE'}, \n",
    "    #      'item': [{'orgAreaNm': '명장정수장', 'gb': '정수장', 'ph': '6.79', 'td': '점검중', 'jy': '0.62', 'ec': '-', 'tp': '-', 'sopCheck': '점검중', 'argGugun': '710', 'argHjd': '330'}, \n",
    "    #               {'orgAreaNm': '고촌배수지', 'gb': '배수지', 'ph': '7.06', 'td': '0.04', 'jy': '0.16', 'ec': '176.16', 'tp': '24.10', 'sopCheck': '정상', 'argGugun': '710', 'argHjd': '330'}, \n",
    "    #               {'orgAreaNm': '정관(택지)고지배수지', 'gb': '배수지', 'ph': '7.11', 'td': '0.09', 'jy': '0.20', 'ec': '-', 'tp': '-', 'sopCheck': '정상', 'argGugun': '710', 'argHjd': '330'}], \n",
    "    #      'numOfRows': 3, \n",
    "    #      'pageNo': 1, \n",
    "    #      'totalCount': 4}\n",
    "    # }\n",
    "\n",
    "def call_getGugunDong():\n",
    "    url = 'http://apis.data.go.kr/6260000/TownWaterQualityService/getGugunDong'\n",
    "    params ={'serviceKey' : 'l9KDvSgYZZPF7NGBPKjJgV6/pU+fhBakLsJSW1avERVypdf2WAD6J4uaF5XHRhOYdZnLhUFU/XFa5W8z+5wGqw==', \n",
    "            'pageNo' : '1', \n",
    "            'numOfRows' : '252',\n",
    "            'resultType' : 'json'\n",
    "            }\n",
    "    \n",
    "    \n",
    "    res = req.get(url, params=params)\n",
    "    # {'getGugunDong': \n",
    "    #     {'header': {'code': '00', 'message': 'NORMAL_CODE'}, \n",
    "    #      'item': [{'siguCd': '710', 'siguNm': '기장군', 'dongCd': '330', 'dongNm': '철마면'}], \n",
    "    #      'numOfRows': 1, \n",
    "    #      'pageNo': 1, \n",
    "    #      'totalCount': 252}\n",
    "    # } \n",
    "\n",
    "    global df_gundong, dongNm\n",
    "    df_gundong = pd.DataFrame(res.json()['getGugunDong']['item'])\n",
    "    dongNm = df_gundong['dongNm']\n",
    "    # print(len(set(dongNm)))\n",
    "    df_gundong.to_csv('./csv/busanwater.csv', encoding='utf-8-sig')\n",
    "\n",
    "\n",
    "call_getVillageWaterQuality()\n",
    "call_getGugunDong()\n",
    "\n"
   ]
  },
  {
   "cell_type": "code",
   "execution_count": 30,
   "metadata": {},
   "outputs": [],
   "source": [
    "\n",
    "# df_gundong , df_quailty\n",
    "df_concat = pd.merge(df_gundong ,df_quailty, on = [\"dongCd\",\"siguCd\"])\n",
    "# print(set(dongNm) - set(df_concat['dongNm']))\n",
    "# df_concat.to_csv('./csv/busan_water_total.csv', encoding='utf-8-sig')\n",
    "# print(df_concat.to_dict('index'))\n",
    "# water = df_concat.to_dict('index')\n",
    "# print(df_concat)\n",
    "df = df_concat[(df_concat.ph != '점검중') & (df_concat.td != '점검중')]\n",
    "\n",
    "df.to_csv('./csv/water_remove.csv', encoding='utf-8-sig')\n",
    "# print(df_concat.groupby('dongNm').mean())\n"
   ]
  },
  {
   "cell_type": "code",
   "execution_count": 42,
   "metadata": {},
   "outputs": [
    {
     "name": "stderr",
     "output_type": "stream",
     "text": [
      "C:\\Users\\admin\\AppData\\Local\\Temp\\ipykernel_13460\\2654821753.py:1: SettingWithCopyWarning: \n",
      "A value is trying to be set on a copy of a slice from a DataFrame.\n",
      "Try using .loc[row_indexer,col_indexer] = value instead\n",
      "\n",
      "See the caveats in the documentation: https://pandas.pydata.org/pandas-docs/stable/user_guide/indexing.html#returning-a-view-versus-a-copy\n",
      "  df['ph'] = pd.to_numeric(df['ph'], downcast=\"float\")\n",
      "C:\\Users\\admin\\AppData\\Local\\Temp\\ipykernel_13460\\2654821753.py:2: SettingWithCopyWarning: \n",
      "A value is trying to be set on a copy of a slice from a DataFrame\n",
      "\n",
      "See the caveats in the documentation: https://pandas.pydata.org/pandas-docs/stable/user_guide/indexing.html#returning-a-view-versus-a-copy\n",
      "  df.rename(columns = {'siguNm' : '구군'}, inplace = True)\n"
     ]
    }
   ],
   "source": [
    "df['ph'] = pd.to_numeric(df['ph'], downcast=\"float\")\n",
    "df.rename(columns = {'siguNm' : '구군'}, inplace = True)\n",
    "df.groupby('구군')['ph'].mean().to_csv('./csv/water_group.csv', encoding='utf-8-sig')"
   ]
  },
  {
   "cell_type": "code",
   "execution_count": 1,
   "metadata": {},
   "outputs": [
    {
     "name": "stdout",
     "output_type": "stream",
     "text": [
      "{0: {'구군': '강서구', 'ph': 6.9907694}, 1: {'구군': '금정구', 'ph': 6.9632}, 2: {'구군': '기장군', 'ph': 7.14375}, 3: {'구군': '남구', 'ph': 7.049216}, 4: {'구군': '동구', 'ph': 7.102625}, 5: {'구군': '동래구', 'ph': 7.2294445}, 6: {'구군': '부산진구', 'ph': 7.035269}, 7: {'구군': '북구', 'ph': 7.200303}, 8: {'구군': '사상구', 'ph': 6.9722223}, 9: {'구군': '사하구', 'ph': 6.9984784}, 10: {'구군': '서구', 'ph': 7.1184506}, 11: {'구군': '수영구', 'ph': 7.1905556}, 12: {'구군': '연제구', 'ph': 6.9807405}, 13: {'구군': '영도구', 'ph': 7.137451}, 14: {'구군': '중구', 'ph': 6.975128}, 15: {'구군': '해운대구', 'ph': 7.0765386}}\n"
     ]
    },
    {
     "data": {
      "image/png": "[encoded data removed]",
      "text/plain": [
       "<Figure size 432x288 with 1 Axes>"
      ]
     },
     "metadata": {},
     "output_type": "display_data"
    }
   ],
   "source": [
    "import seaborn as sns\n",
    "import pandas as pd\n",
    "import matplotlib.pyplot as plt\n",
    "\n",
    "water_total_csv = pd.read_csv('D:/Workspace/PythonProjects/csv/water_group.csv',encoding='utf-8-sig')\n",
    "df_water = pd.DataFrame(water_total_csv)\n",
    "print(df_water.to_dict('index'))\n",
    "sns.set_style('whitegrid')\n",
    "plt.rcParams['font.family'] = 'NanumGothic'\n",
    "sns.barplot(x='ph', y='구군', data=df_water.sort_values(by='ph'))\n",
    "plt.show()\n"
   ]
  }
 ],
 "metadata": {
  "kernelspec": {
   "display_name": "Python 3.9.12 ('base')",
   "language": "python",
   "name": "python3"
  },
  "language_info": {
   "codemirror_mode": {
    "name": "ipython",
    "version": 3
   },
   "file_extension": ".py",
   "mimetype": "text/x-python",
   "name": "python",
   "nbconvert_exporter": "python",
   "pygments_lexer": "ipython3",
   "version": "3.9.12"
  },
  "orig_nbformat": 4,
  "vscode": {
   "interpreter": {
    "hash": "610a6f344c2137faf927ea819c63f6cee33a2c04455044b28099f39fe9722347"
   }
  }
 },
 "nbformat": 4,
 "nbformat_minor": 2
}
