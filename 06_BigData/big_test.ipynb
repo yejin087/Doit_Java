{
 "cells": [
  {
   "cell_type": "code",
   "execution_count": 30,
   "metadata": {},
   "outputs": [
    {
     "name": "stderr",
     "output_type": "stream",
     "text": [
      "C:\\Users\\admin\\AppData\\Local\\Temp\\ipykernel_9016\\922833982.py:18: DeprecationWarning: executable_path has been deprecated, please pass in a Service object\n",
      "  driver = wd.Chrome(path, options=options)\n"
     ]
    },
    {
     "data": {
      "image/png": "[encoded data removed]",
      "text/plain": [
       "<Figure size 432x288 with 1 Axes>"
      ]
     },
     "metadata": {},
     "output_type": "display_data"
    }
   ],
   "source": [
    "from selenium import webdriver as wd\n",
    "from selenium.webdriver.common.by import By\n",
    "from bs4 import BeautifulSoup\n",
    "import matplotlib.font_manager as fm\n",
    "import matplotlib as mpl\n",
    "import matplotlib.pyplot as pltb\n",
    "import pandas as pd\n",
    "from selenium.webdriver.common.keys import Keys\n",
    "\n",
    "import time\n",
    "\n",
    "path = 'D:\\\\program_files\\\\chromedriver_win32\\\\chromedriver.exe'\n",
    "options = wd.ChromeOptions()\n",
    "options.add_experimental_option('excludeSwitches',['enable-logging'])\n",
    "driver = wd.Chrome(path, options=options)\n",
    "\n",
    "driver.get('https://www.youtube.com/c/paikscuisine/videos')\n",
    "\n",
    "page = driver.page_source\n",
    "soup = BeautifulSoup(page, 'html.parser')\n",
    "\n",
    "datas = []\n",
    "\n",
    "body_tag = driver.find_element(By.TAG_NAME, 'body')\n",
    "\n",
    "while True:\n",
    "    body_tag.send_keys(Keys.END)\n",
    "    last_height = driver.execute_script('return document.documentElement.scrollHeight')\n",
    "    \n",
    "    for i in range(10):\n",
    "        body_tag.send_keys(Keys.END)\n",
    "        time.sleep(1)\n",
    "        \n",
    "        all_videos = soup.find_all(id='dismissible')\n",
    "\n",
    "\n",
    "        for i in all_videos:\n",
    "            title = i.find(id='video-title').get_text()\n",
    "            views = i.select_one(\"#metadata-line > span:nth-of-type(1)\").get_text()\n",
    "            datas.append([title, views])\n",
    "        \n",
    "        \n",
    "    # 스크롤 다운 후 스크롤 높이 다시 가져옴\n",
    "    new_height = driver.execute_script(\"return document.documentElement.scrollHeight\")\n",
    "    \n",
    "    if new_height == last_height:\n",
    "        break\n",
    "     \n",
    "df = pd.DataFrame(datas, columns=['title', 'views'])\n",
    "\n",
    "df.to_csv('./csv/youtube.csv', mode='w', encoding='utf-8-sig', index=True)\n",
    "dict_youtube = {'100' : 0, '50' : 0, '10' : 0}\n",
    "for item in datas:\n",
    "    count = float(item[1].split('조회수')[1].split('만회')[0].strip())\n",
    "    if  count > 100:\n",
    "        dict_youtube['100'] += 1\n",
    "    elif count > 50:\n",
    "        dict_youtube['50'] += 1\n",
    "    elif count > 10:\n",
    "        dict_youtube['10'] += 1\n",
    "    \n",
    "\n",
    "font_name = fm.FontProperties(fname='C:\\\\Windows\\\\Fonts\\\\NanumBarunGothic.ttf').get_name()\n",
    "mpl.rc('font', family=font_name)\n",
    "\n",
    "plt.pie(dict_youtube.values(), labels=dict_youtube.keys(), autopct='%.1f%%', startangle=260, counterclock=False)\n",
    "plt.show()\n",
    "\n",
    "    \n"
   ]
  },
  {
   "cell_type": "code",
   "execution_count": 34,
   "metadata": {},
   "outputs": [],
   "source": [
    "from pymongo import MongoClient\n",
    "import urllib.request\n",
    "from io import BytesIO\n",
    "from PIL import Image\n",
    "from gridfs import GridFSBucket\n",
    "\n",
    "\n",
    "db = MongoClient().python_test\n",
    "url = 'https://static01.nyt.com/images/2021/07/08/science/08TB-OTTERS1/merlin_190551999_3680585e-dbdd-4bff-96ad-0d74d1239df8-superJumbo.jpg'\n",
    "data = urllib.request.urlopen(url).read()\n",
    "Image.open(BytesIO(data))\n",
    "\n",
    "bucket = GridFSBucket(db)\n",
    "grid_in  = bucket.open_upload_stream('seaotter.jpg', metadata={'contentType ' : 'image/jpg'})\n",
    "\n",
    "grid_in.write(data)\n",
    "grid_in.close()"
   ]
  },
  {
   "cell_type": "code",
   "execution_count": 33,
   "metadata": {},
   "outputs": [],
   "source": [
    "from pymongo import MongoClient\n",
    "from gridfs import GridFS\n",
    "\n",
    "fs = GridFS(db)\n",
    "f = fs.get_last_version(filename='result.jpg')\n",
    "dataImage = f.read()\n",
    "real_img = Image.open(BytesIO(dataImage))\n",
    "real_img.show()"
   ]
  }
 ],
 "metadata": {
  "kernelspec": {
   "display_name": "Python 3.9.12 ('base')",
   "language": "python",
   "name": "python3"
  },
  "language_info": {
   "codemirror_mode": {
    "name": "ipython",
    "version": 3
   },
   "file_extension": ".py",
   "mimetype": "text/x-python",
   "name": "python",
   "nbconvert_exporter": "python",
   "pygments_lexer": "ipython3",
   "version": "3.9.12"
  },
  "orig_nbformat": 4,
  "vscode": {
   "interpreter": {
    "hash": "610a6f344c2137faf927ea819c63f6cee33a2c04455044b28099f39fe9722347"
   }
  }
 },
 "nbformat": 4,
 "nbformat_minor": 2
}
