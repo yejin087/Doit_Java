{
 "cells": [
  {
   "cell_type": "code",
   "execution_count": null,
   "metadata": {},
   "outputs": [],
   "source": [
    "import requests\n",
    "from bs4 import BeautifulSoup\n",
    "import pandas as pd\n",
    "from selenium import webdriver\n",
    "from selenium.webdriver.common.by import By\n",
    "\n",
    "path = 'D:\\\\program_files\\\\chromedriver_win32\\\\chromedriver.exe'\n",
    "driver = webdriver.Chrome(path)\n",
    "driver.implicitly_wait(2)\n",
    "driver.get('https://emart.ssg.com/best/main.ssg?Egnb=best#ajaxmore')\n",
    "\n",
    "category_lis = driver.find_element(By.XPATH, '//*[@id=\"best_unit_tab\"]/ul').find_elements(By.TAG_NAME, 'li')\n",
    "\n",
    "for i,category_li in enumerate(category_lis):\n",
    "    name = category_li.find_elements(By.TAG_NAME, 'img')[0].get_attribute(\"alt\")\n",
    "    item_uls = driver.find_element(By.ID,f'best_{i}').find_elements(By.TAG_NAME,'li')\n",
    "    #best_3 > li:nth-child(1) > div.cunit_info > div.cunit_md.notranslate\n",
    "    for item_ul in item_uls:\n",
    "        for li in item_ul.find_elements(By.TAG_NAME,'li'):\n",
    "            li.find_element(By.CSS_SELECTOR,'div.cunit_md notranslate').find_element(By.CLASS_NAME,'title').find_element(By.CLASS_NAME,'tx_ko').text\n",
    "            print(title)\n",
    "    print(name)\n",
    "\n",
    "driver.implicitly_wait(2)\n",
    "# item_uls = driver.find_elements(By.CSS_SELECTOR,'cunit_thmb_lst')\n",
    "# #best_3 > li:nth-child(1) > div.cunit_info > div.cunit_md.notranslate\n",
    "# for item_ul in item_uls:\n",
    "#     for li in item_ul.find_elements(By.TAG_NAME,'li'):\n",
    "#         li.find_element(By.CSS_SELECTOR,'div.cunit_md notranslate').find_element(By.CLASS_NAME,'title').find_element(By.CLASS_NAME,'tx_ko').text\n",
    "#         print(title)\n",
    "\n",
    "    "
   ]
  }
 ],
 "metadata": {
  "kernelspec": {
   "display_name": "Python 3.9.12 ('base')",
   "language": "python",
   "name": "python3"
  },
  "language_info": {
   "codemirror_mode": {
    "name": "ipython",
    "version": 3
   },
   "file_extension": ".py",
   "mimetype": "text/x-python",
   "name": "python",
   "nbconvert_exporter": "python",
   "pygments_lexer": "ipython3",
   "version": "3.9.12"
  },
  "orig_nbformat": 4,
  "vscode": {
   "interpreter": {
    "hash": "610a6f344c2137faf927ea819c63f6cee33a2c04455044b28099f39fe9722347"
   }
  }
 },
 "nbformat": 4,
 "nbformat_minor": 2
}
